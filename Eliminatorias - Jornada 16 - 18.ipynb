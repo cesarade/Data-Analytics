{
 "cells": [
  {
   "cell_type": "markdown",
   "metadata": {},
   "source": [
    "# Table of contents\n",
    "\n",
    "1. [Las Probabilidades de los equipos de la CONMEBOL para clasificar a La Copa Mundial de Fútbol Qatar 2022](#introduccion)\n",
    "\n",
    "2. [Generando el Espacio Muestral](#espacio)\n",
    "    \n",
    "    2.1 [Resultados por jornada](#jornada)\n",
    "    \n",
    "    2.2 [Puntos por partido disputado](#puntos)\n",
    "    \n",
    "    2.3 [Procesamiento](#procesamiento)\n",
    "    \n",
    "3. [Análisis de los partidos](#analisis)\n",
    "    \n",
    "    3.1 [¿Si Ecuador pierde todos los partidos puede clasificarse para el mundial sin repechaje?](#p1)\n",
    "    \n",
    "    3.2 [¿Con un empate Ecuador podría quedarse fuera del mundial sin opción a repechaje?](#p2)\n",
    "    \n",
    "    3.3 [¿Si Ecuador gana un partido o empatara los tres partidos podría quedarse fuera del mundial?](#p3)\n",
    "\n",
    "\n",
    "## Las Probabilidades de los equipos de la CONMEBOL para clasificar a La Copa Mundial de Fútbol Qatar 2022 <a name=\"introduccion\"></a>\n",
    "\n",
    "Los 4 primeros equipos que obtengan el puntaje más alto de los 10 equipo de la CONMEBOL clasificarían directamente a La Copa Mundial de Fútbol Qatar 2022. El quinto equipo con puntaje más alto competiría en un repechaje por una plaza para el mundial. Actualmente, faltan por disputar 3 jornadas de 5 cinco partidos cada uno, para que acabe la eliminatoria. A continuación, se detallan los partidos por jornada:\n",
    "\n",
    "* Jornada 16: Uruguay vs Venezuela, Brasil vs Paraguay, Perú vs Ecuador, Bolivia vs Chile, Argentina vs Colombia.\n",
    "\n",
    "* Jornada 17: Argentina vs Venezuela, Colombia vs Bolivia, Paraguay vs Ecuador, Brasil vs Chile, Uruguay vs Perú.\n",
    "\n",
    "* Jornada 18: Perú vs Paraguay, Ecuador vs Argentina, Venezuela vs Colombia, Chile vs Uruguay, Bolivia vs Brasil.\n",
    "\n",
    "En este trabajo se pretende obtener las probabilidades que tienen los equipos de la CONMEBOL para clasificar al mundial de fútbol. Para esto se debe contar con el conjunto de todos los resultados posibles de las jornadas 16, 17 y 18. \n",
    "\n",
    "El conjunto de todos los resultados posibles se denomina espacio muestral y se suele designar con la letra $\\Omega$.\n",
    "\n",
    "Para explicar cómo se generará el espacio muestral, se escogerán dos partidos de la jornada 16: Perú vs Ecuador y Bolivia vs Chile. A continuación, se detallan los escenarios posibles de estos dos partidos:\n",
    "\n",
    "\n",
    "\n",
    "$$\\Omega = \\{\\{Si~Perú~gana,~Ecuador~pierde;~Si~Bolivia~gana,~Chile~pierde\\}, \\{Si~Perú~gana,~Ecuador~pierde; ~Si~Bolivia~pierde,~Chile~gana\\},\\{Si~Perú~gana,~Ecuador~pierde;~Si~Bolivia~empata,~empata~Chile\\},\\{Si~Perú~pierde,~Ecuador~gana;~Bolivia~gana,~Chile~pierde\\},\\{Si~Perú~pierde,~Ecuador~gana;~Si~Bolivia~pierde,~Chile~gana\\},\\{Si~Perú~pierde,~Ecuador~gana;~Si~Bolivia~empata,~Chile~empata\\},\\{Si~Perú~empata,~Ecuador~empata;~Si~Bolivia~gana,~Chile~pierde\\},\\{Si~Perú~empata,~Ecuador~empata;~Si~Bolivia~pierde,~Chile~gana\\},\\{Si~Perú~empata,~Ecuador~empata;~Si~Bolivia~empata,~Chile~empata\\}\\}\n",
    "$$\n",
    "\n",
    "\n",
    "Como se puede observar, $\\Omega$ en dos partidos tendría $3\\cdot3 = 3^2 = 9$ escenarios posibles. En tres partidos, $\\Omega$ tendría $3\\cdot3\\cdot3 = 3^3 = 27$ escenarios posibles. Por lo tanto, la fórmula para calcular $\\Omega$ o el espacio muestral de una jornada de la sería:\n",
    "\n",
    "$$\n",
    "\\Omega~de~una~jornada = resultados~posibles^{número~de~partidos}\n",
    "$$\n",
    "\n",
    "\n",
    "Las jornadas 16, 17 y 18 tienen 5 partidos con 3 posibles resultados por partido, por lo que el $\\Omega$ de cada jornada tendrían los siguientes sucesos:\n",
    "\n",
    "$$\n",
    "\\Omega~de~la~jornada~16 = 3^{5} = 243 ~ escenarios\n",
    "$$\n",
    "\n",
    "Por lo tanto, el espacio muestral de las 3 jornadas restantes sería:\n",
    "\n",
    "$$\n",
    "\\Omega~de~la~jornada~16 \\cdot \\Omega~de~la~jornada~17 \\cdot \\Omega~de~la~jornada~16 = 243 \\cdot 243 \\cdot 243 = 14.348.907 sucesos\n",
    "$$\n"
   ]
  },
  {
   "cell_type": "markdown",
   "metadata": {},
   "source": [
    "## Generando el Espacio Muestral <a name=\"espacio\"></a>"
   ]
  },
  {
   "cell_type": "markdown",
   "metadata": {},
   "source": [
    "Para generar el espacio muestral de las jornadas 16, 17 y 18 se utilizarán las funciones que se detallan a continuación."
   ]
  },
  {
   "cell_type": "markdown",
   "metadata": {},
   "source": [
    "### Resultados por jornada <a name=\"jornada\"></a>\n",
    "\n",
    "La función `get_results` retorna los resultados de ganar, perder y empatar de 5 partidos de una jornada."
   ]
  },
  {
   "cell_type": "code",
   "execution_count": 23,
   "metadata": {},
   "outputs": [],
   "source": [
    "def get_results():\n",
    "    # 0 gana el local, 1 gana el visitante, 2 empate\n",
    "    score = [0,1,2]\n",
    "\n",
    "    results = []\n",
    "    for sc1 in score:\n",
    "        for sc2 in score:\n",
    "            for sc3 in score:\n",
    "                for sc4 in score:\n",
    "                    for sc5 in score:\n",
    "                        results.append([sc1,sc2, sc3, sc4, sc5])\n",
    "    return results"
   ]
  },
  {
   "cell_type": "code",
   "execution_count": 24,
   "metadata": {},
   "outputs": [
    {
     "data": {
      "text/plain": [
       "243"
      ]
     },
     "execution_count": 24,
     "metadata": {},
     "output_type": "execute_result"
    }
   ],
   "source": [
    "results = get_results()\n",
    "len(results)"
   ]
  },
  {
   "cell_type": "markdown",
   "metadata": {},
   "source": [
    "Se comprueba que son 243 sucesos por jornada."
   ]
  },
  {
   "cell_type": "markdown",
   "metadata": {},
   "source": [
    "### Puntos por partido disputado <a name=\"puntos\"></a>\n",
    "\n",
    "La funcion `get_standings` establece 3 puntos al equipo ganador, 0 puntos al equipo perdedor y 1 puntos a los equipos que empaten."
   ]
  },
  {
   "cell_type": "code",
   "execution_count": 25,
   "metadata": {},
   "outputs": [],
   "source": [
    "def get_standings(resultsc, matchday):\n",
    "    standings = []\n",
    "    temp_standing = {\"BR\": 0, \"AR\": 0, \"EC\": 0, \"UR\": 0, \"CL\": 0, \"PE\": 0, \"CH\": 0, \"BL\": 0, \"PG\": 0, \"VZ\": 0, \"M1\": \"\", \"M2\": \"\", \"M3\": \"\", \"M4\": \"\"}\n",
    "    for result in resultsc:\n",
    "        match0 = matchday[0]\n",
    "        match0_result = result[0]\n",
    "\n",
    "        match1 = matchday[1]\n",
    "        match1_result = result[1]\n",
    "\n",
    "        match2 = matchday[2]\n",
    "        match2_result = result[2]\n",
    "\n",
    "        match3 = matchday[3]\n",
    "        match3_result = result[3]\n",
    "\n",
    "        match4 = matchday[4]\n",
    "        match4_result = result[4]\n",
    "\n",
    "        temp_match0 = \"\"\n",
    "        temp_match1 = \"\"\n",
    "        temp_match2 = \"\"\n",
    "        temp_match3 = \"\"\n",
    "        temp_match4 = \"\"\n",
    "\n",
    "        if match0_result == 0:\n",
    "            temp_standing[match0[0]] = 3\n",
    "            temp_standing[match0[1]] = 0\n",
    "            temp_match0 += match0[0] + \" (3) \" + ' - '+ match0[1] + \" (0)\"\n",
    "        elif match0_result == 1:\n",
    "            temp_standing[match0[0]] = 0\n",
    "            temp_standing[match0[1]] = 3\n",
    "            temp_match0 += match0[0] + \" (0) \" + ' - '+ match0[1] + \" (3)\"\n",
    "        else:\n",
    "            temp_standing[match0[0]] = 1\n",
    "            temp_standing[match0[1]] = 1\n",
    "            temp_match0 += match0[0] + \" (1) \" + ' - '+ match0[1] + \" (1)\"\n",
    "\n",
    "        if match1_result == 0:\n",
    "            temp_standing[match1[0]] = 3\n",
    "            temp_standing[match1[1]] = 0\n",
    "            temp_match1 += match1[0] + \" (3) \" + ' - '+ match1[1] + \" (0)\"\n",
    "        elif match1_result == 1:\n",
    "            temp_standing[match1[0]] = 0\n",
    "            temp_standing[match1[1]] = 3\n",
    "            temp_match1 += match1[0] + \" (0) \" + ' - '+ match1[1] + \" (3)\"\n",
    "        else:\n",
    "            temp_standing[match1[0]] = 1\n",
    "            temp_standing[match1[1]] = 1\n",
    "            temp_match1 += match1[0] + \" (1) \" + ' - '+ match1[1] + \" (1)\"\n",
    "\n",
    "        if match2_result == 0:\n",
    "            temp_standing[match2[0]] = 3\n",
    "            temp_standing[match2[1]] = 0\n",
    "            temp_match2 += match2[0] + \" (3) \" + ' - '+ match2[1] + \" (0)\"\n",
    "        elif match2_result == 1:\n",
    "            temp_standing[match2[0]] = 0\n",
    "            temp_standing[match2[1]] = 3\n",
    "            temp_match2 += match2[0] + \" (0) \" + ' - '+ match2[1] + \" (3)\"\n",
    "        else:\n",
    "            temp_standing[match2[0]] = 1\n",
    "            temp_standing[match2[1]] = 1\n",
    "            temp_match2 += match2[0] + \" (1) \" + ' - '+ match2[1] + \" (1)\"\n",
    "\n",
    "        if match3_result == 0:\n",
    "            temp_standing[match3[0]] = 3\n",
    "            temp_standing[match3[1]] = 0\n",
    "            temp_match3 += match3[0] + \" (3) \" + ' - '+ match3[1] + \" (0)\"\n",
    "        elif match3_result == 1:\n",
    "            temp_standing[match3[0]] = 0\n",
    "            temp_standing[match3[1]] = 3\n",
    "            temp_match3 += match3[0] + \" (0) \" + ' - '+ match3[1] + \" (3)\"\n",
    "        else:\n",
    "            temp_standing[match3[0]] = 1\n",
    "            temp_standing[match3[1]] = 1\n",
    "            temp_match3 += match3[0] + \" (1) \" + ' - '+ match3[1] + \" (1)\"\n",
    "\n",
    "\n",
    "        if match4_result == 0:\n",
    "            temp_standing[match4[0]] = 3\n",
    "            temp_standing[match4[1]] = 0\n",
    "            temp_match4 += match4[0] + \" (3) \" + ' - '+ match4[1] + \" (0)\"\n",
    "        elif match4_result == 1:\n",
    "            temp_standing[match4[0]] = 0\n",
    "            temp_standing[match4[1]] = 3\n",
    "            temp_match4 += match4[0] + \" (0) \" + ' - '+ match4[1] + \" (3)\"\n",
    "        else:\n",
    "            temp_standing[match4[0]] = 1\n",
    "            temp_standing[match4[1]] = 1\n",
    "            temp_match4 += match4[0] + \" (1) \" + ' - '+ match4[1] + \" (1)\"\n",
    "        \n",
    "        temp_standing[\"M1\"] = temp_match0\n",
    "        temp_standing[\"M2\"] = temp_match1\n",
    "        temp_standing[\"M3\"] = temp_match2\n",
    "        temp_standing[\"M4\"] = temp_match3\n",
    "        temp_standing[\"M5\"] = temp_match4\n",
    "\n",
    "        standings.append(temp_standing)\n",
    "        temp_standing = {\"BR\": 0, \"AR\": 0, \"EC\": 0, \"UR\": 0, \"CL\": 0, \"PE\": 0, \"CH\": 0, \"BL\": 0, \"PG\": 0, \"VZ\": 0, \"M1\": \"\", \"M2\": \"\", \"M3\": \"\", \"M4\": \"\"}\n",
    "    return standings"
   ]
  },
  {
   "cell_type": "markdown",
   "metadata": {},
   "source": [
    "A continuación, se establecen los partidos de las jornadas 16, 17 y 18 en las variables `matchday16`, `matchday17` y `matchday18`"
   ]
  },
  {
   "cell_type": "code",
   "execution_count": 27,
   "metadata": {},
   "outputs": [],
   "source": [
    "matchday16 = [[\"UR\", \"VZ\"],[\"BR\", \"PG\"],[\"PE\", \"EC\"],[\"BL\", \"CH\"],[\"AR\", \"CL\"]]\n",
    "matchday17 = [[\"AR\", \"VZ\"],[\"CL\", \"BL\"],[\"PG\", \"EC\"],[\"BR\", \"CH\"],[\"UR\", \"PE\"]]\n",
    "matchday18 = [[\"PE\", \"PG\"],[\"EC\", \"AR\"],[\"VZ\", \"CL\"],[\"CH\", \"UR\"],[\"BL\", \"BR\"]]"
   ]
  },
  {
   "cell_type": "markdown",
   "metadata": {},
   "source": [
    "Las variables `standings1`, `standings2` y `standings3` contienen los posibles puntos obtenidos por los equipos en las jornadas 16, 17 y 18."
   ]
  },
  {
   "cell_type": "code",
   "execution_count": 28,
   "metadata": {},
   "outputs": [
    {
     "data": {
      "text/plain": [
       "14348907"
      ]
     },
     "execution_count": 28,
     "metadata": {},
     "output_type": "execute_result"
    }
   ],
   "source": [
    "standings1 = get_standings(results, matchday16)\n",
    "standings2 = get_standings(results, matchday17)\n",
    "standings3 = get_standings(results, matchday18)\n",
    "\n",
    "len(standings1) * len(standings2) * len(standings3)"
   ]
  },
  {
   "cell_type": "markdown",
   "metadata": {},
   "source": [
    "Se comprueba que el $\\Omega$ de las tres jornadas es 14348907 sucesos."
   ]
  },
  {
   "cell_type": "markdown",
   "metadata": {},
   "source": [
    "### Procesamiento <a name=\"procesamiento\"></a>\n",
    "\n",
    "A continuación, se importa la librería `pandas`, la cual nos facilitará consultar los resultados de las jornadas."
   ]
  },
  {
   "cell_type": "code",
   "execution_count": 29,
   "metadata": {},
   "outputs": [],
   "source": [
    "import pandas as pd"
   ]
  },
  {
   "cell_type": "markdown",
   "metadata": {},
   "source": [
    "En la variable `df` de tipo `DataFrame`, se almacenaran los puntos obtenidos en cada escenario."
   ]
  },
  {
   "cell_type": "code",
   "execution_count": 30,
   "metadata": {},
   "outputs": [],
   "source": [
    "df = pd.DataFrame(\n",
    "    columns=['J16', 'J17','J18',\n",
    "    'BR', 'AR', 'EC', 'CL', 'PE', 'CH', 'UR', 'BL', 'PG', 'VZ',\n",
    "    'BR_POS', 'AR_POS', 'EC_POS', 'CL_POS', 'PE_POS', 'CH_POS', 'UR_POS', 'BL_POS', 'PG_POS', 'VZ_POS'])\n",
    "# df = df.astype({'J16': int, 'J17': int,'J18': int, 'BR': int, 'AR': int, 'EC': int, 'CL': int, 'PE': int, 'CH':int, 'UR': int, 'BL': int, 'PG': int, 'VZ': int})"
   ]
  },
  {
   "cell_type": "markdown",
   "metadata": {},
   "source": [
    "A continuación, se detallan los campos del dataset:\n",
    "\n",
    "* J16: contendrá el índice que identifica la combinación de partidos de la jornada 16.\n",
    "* J17: contendrá el índice que identifica la combinación de partidos de la jornada 17.\n",
    "* J18: contendrá el índice que identifica la combinación de partidos de la jornada 18.\n",
    "* BR, AR, EC, CL, PE, CH, UR, BL, PG, VZ: los posibles puntos de los países."
   ]
  },
  {
   "cell_type": "markdown",
   "metadata": {},
   "source": [
    "A continuacion, se establece el puntaje actual que tienen las selecciones"
   ]
  },
  {
   "cell_type": "code",
   "execution_count": 183,
   "metadata": {},
   "outputs": [],
   "source": [
    "current_standing = {\"BR\": 36, \"AR\": 32, \"EC\": 24, \"UR\": 19, \"CL\": 17, \"PE\": 20, \"CH\": 16, \"BL\": 15, \"PG\": 13, \"VZ\": 10}"
   ]
  },
  {
   "cell_type": "markdown",
   "metadata": {},
   "source": [
    "En las siguientes sentencias, se crea el espacio muestral de las 3 jornadas:"
   ]
  },
  {
   "cell_type": "code",
   "execution_count": 54,
   "metadata": {},
   "outputs": [],
   "source": [
    "dictinary_list = []\n",
    "\n",
    "for j1, st1 in enumerate(standings1):\n",
    "    for j2, st2 in enumerate(standings2):\n",
    "        for j3, st3 in enumerate(standings3):\n",
    "            sc_br = st1['BR']+st2['BR']+st3['BR'] + current_standing['BR']\n",
    "            sc_ar = st1['AR']+st2['AR']+st3['AR'] + current_standing['AR']\n",
    "            sc_ec = st1['EC']+st2['EC']+st3['EC'] + current_standing['EC']\n",
    "            sc_cl = st1['CL']+st2['CL']+st3['CL'] + current_standing['CL']\n",
    "            sc_pe = st1['PE']+st2['PE']+st3['PE'] + current_standing['PE']\n",
    "            sc_ch = st1['CH']+st2['CH']+st3['CH'] + current_standing['CH']\n",
    "            sc_ur = st1['UR']+st2['UR']+st3['UR'] + current_standing['UR']\n",
    "            sc_bl = st1['BL']+st2['BL']+st3['BL'] + current_standing['BL']\n",
    "            sc_pg = st1['PG']+st2['PG']+st3['PG'] + current_standing['PG']\n",
    "            sc_vz = st1['VZ']+st2['VZ']+st3['VZ'] + current_standing['VZ']\n",
    "            \n",
    "            x = {\"BR\": sc_br, \"AR\": sc_ar, \"EC\": sc_ec, \"CL\": sc_cl, \"PE\": sc_pe, \n",
    "                 \"CH\": sc_ch, \"UR\": sc_ur, \"BL\": sc_bl, \"PG\": sc_pg, \"VZ\":sc_vz}\n",
    "            \n",
    "            r = {k: v for k, v in sorted(x.items(), key=lambda item: item[1], reverse=True)}\n",
    "    \n",
    "            pos_br = 0; pos_ar = 0; pos_ec = 0; pos_cl = 0; pos_pe = 0; \n",
    "            pos_ch = 0; pos_ur = 0; pos_bl = 0; pos_pg = 0; pos_vz = 0\n",
    "\n",
    "            for pos, i in enumerate(r):\n",
    "                if i == \"BR\":\n",
    "                    pos_br = pos+1\n",
    "                elif i == \"AR\":\n",
    "                    pos_ar = pos+1\n",
    "                elif i == \"EC\":\n",
    "                    pos_ec = pos+1\n",
    "                elif i == \"CL\":\n",
    "                    pos_cl = pos+1\n",
    "                elif i == \"PE\":\n",
    "                    pos_pe = pos+1\n",
    "                elif i == \"CH\":\n",
    "                    pos_ch = pos+1\n",
    "                elif i == \"UR\":\n",
    "                    pos_ur = pos+1\n",
    "                elif i == \"BL\":\n",
    "                    pos_bl = pos+1\n",
    "                elif i == \"PG\":\n",
    "                    pos_pg = pos+1\n",
    "                elif i == \"VZ\":\n",
    "                    pos_vz = pos+1\n",
    "            \n",
    "            \n",
    "            dictionary_data = {\n",
    "                'J16': j1,\n",
    "                'J17': j2,\n",
    "                'J18': j3,\n",
    "                'BR': sc_br,\n",
    "                'AR': sc_ar,\n",
    "                'EC': sc_ec,\n",
    "                'CL': sc_cl,\n",
    "                'PE': sc_pe,\n",
    "                'CH': sc_ch,\n",
    "                'UR': sc_ur,\n",
    "                'BL': sc_bl,\n",
    "                'PG': sc_pg,\n",
    "                'VZ': sc_vz,\n",
    "                'BR_POS': pos_br,\n",
    "                'AR_POS': pos_ar,\n",
    "                'EC_POS': pos_ec,\n",
    "                'CL_POS': pos_cl,\n",
    "                'PE_POS': pos_pe,\n",
    "                'CH_POS': pos_ch,\n",
    "                'UR_POS': pos_ur,\n",
    "                'BL_POS': pos_bl,\n",
    "                'PG_POS': pos_pg,\n",
    "                'VZ_POS': pos_vz\n",
    "                }\n",
    "\n",
    "            dictinary_list.append(dictionary_data)"
   ]
  },
  {
   "cell_type": "markdown",
   "metadata": {},
   "source": [
    "Luego, se crea un archivo `.csv` que contendra el espacio muestral con los puntos obtenidos."
   ]
  },
  {
   "cell_type": "code",
   "execution_count": 55,
   "metadata": {},
   "outputs": [],
   "source": [
    "df_final = pd.DataFrame.from_dict(dictinary_list)\n",
    "df_final.to_csv('omega_score_position_v1.csv', index=False)"
   ]
  },
  {
   "cell_type": "code",
   "execution_count": 139,
   "metadata": {},
   "outputs": [],
   "source": [
    "df_st1 = pd.DataFrame(standings1, columns=['M1', 'M2', 'M3', 'M4', 'M5'])\n",
    "df_st2 = pd.DataFrame(standings2, columns=['M1', 'M2', 'M3', 'M4', 'M5'])\n",
    "df_st3 = pd.DataFrame(standings3, columns=['M1', 'M2', 'M3', 'M4', 'M5'])\n",
    "\n",
    "df_st1.to_csv('matchday16.csv', index=False)\n",
    "df_st2.to_csv('matchday17.csv', index=False)\n",
    "df_st3.to_csv('matchday18.csv', index=False)"
   ]
  },
  {
   "cell_type": "code",
   "execution_count": 56,
   "metadata": {},
   "outputs": [
    {
     "data": {
      "text/html": [
       "<div>\n",
       "<style scoped>\n",
       "    .dataframe tbody tr th:only-of-type {\n",
       "        vertical-align: middle;\n",
       "    }\n",
       "\n",
       "    .dataframe tbody tr th {\n",
       "        vertical-align: top;\n",
       "    }\n",
       "\n",
       "    .dataframe thead th {\n",
       "        text-align: right;\n",
       "    }\n",
       "</style>\n",
       "<table border=\"1\" class=\"dataframe\">\n",
       "  <thead>\n",
       "    <tr style=\"text-align: right;\">\n",
       "      <th></th>\n",
       "      <th>J16</th>\n",
       "      <th>J17</th>\n",
       "      <th>J18</th>\n",
       "      <th>BR</th>\n",
       "      <th>AR</th>\n",
       "      <th>EC</th>\n",
       "      <th>CL</th>\n",
       "      <th>PE</th>\n",
       "      <th>CH</th>\n",
       "      <th>UR</th>\n",
       "      <th>...</th>\n",
       "      <th>BR_POS</th>\n",
       "      <th>AR_POS</th>\n",
       "      <th>EC_POS</th>\n",
       "      <th>CL_POS</th>\n",
       "      <th>PE_POS</th>\n",
       "      <th>CH_POS</th>\n",
       "      <th>UR_POS</th>\n",
       "      <th>BL_POS</th>\n",
       "      <th>PG_POS</th>\n",
       "      <th>VZ_POS</th>\n",
       "    </tr>\n",
       "  </thead>\n",
       "  <tbody>\n",
       "    <tr>\n",
       "      <th>0</th>\n",
       "      <td>0</td>\n",
       "      <td>0</td>\n",
       "      <td>0</td>\n",
       "      <td>42</td>\n",
       "      <td>38</td>\n",
       "      <td>27</td>\n",
       "      <td>20</td>\n",
       "      <td>26</td>\n",
       "      <td>19</td>\n",
       "      <td>25</td>\n",
       "      <td>...</td>\n",
       "      <td>1</td>\n",
       "      <td>2</td>\n",
       "      <td>3</td>\n",
       "      <td>7</td>\n",
       "      <td>4</td>\n",
       "      <td>8</td>\n",
       "      <td>5</td>\n",
       "      <td>6</td>\n",
       "      <td>9</td>\n",
       "      <td>10</td>\n",
       "    </tr>\n",
       "    <tr>\n",
       "      <th>1</th>\n",
       "      <td>0</td>\n",
       "      <td>0</td>\n",
       "      <td>1</td>\n",
       "      <td>45</td>\n",
       "      <td>38</td>\n",
       "      <td>27</td>\n",
       "      <td>20</td>\n",
       "      <td>26</td>\n",
       "      <td>19</td>\n",
       "      <td>25</td>\n",
       "      <td>...</td>\n",
       "      <td>1</td>\n",
       "      <td>2</td>\n",
       "      <td>3</td>\n",
       "      <td>6</td>\n",
       "      <td>4</td>\n",
       "      <td>7</td>\n",
       "      <td>5</td>\n",
       "      <td>8</td>\n",
       "      <td>9</td>\n",
       "      <td>10</td>\n",
       "    </tr>\n",
       "    <tr>\n",
       "      <th>2</th>\n",
       "      <td>0</td>\n",
       "      <td>0</td>\n",
       "      <td>2</td>\n",
       "      <td>43</td>\n",
       "      <td>38</td>\n",
       "      <td>27</td>\n",
       "      <td>20</td>\n",
       "      <td>26</td>\n",
       "      <td>19</td>\n",
       "      <td>25</td>\n",
       "      <td>...</td>\n",
       "      <td>1</td>\n",
       "      <td>2</td>\n",
       "      <td>3</td>\n",
       "      <td>6</td>\n",
       "      <td>4</td>\n",
       "      <td>7</td>\n",
       "      <td>5</td>\n",
       "      <td>8</td>\n",
       "      <td>9</td>\n",
       "      <td>10</td>\n",
       "    </tr>\n",
       "    <tr>\n",
       "      <th>3</th>\n",
       "      <td>0</td>\n",
       "      <td>0</td>\n",
       "      <td>3</td>\n",
       "      <td>42</td>\n",
       "      <td>38</td>\n",
       "      <td>27</td>\n",
       "      <td>20</td>\n",
       "      <td>26</td>\n",
       "      <td>16</td>\n",
       "      <td>28</td>\n",
       "      <td>...</td>\n",
       "      <td>1</td>\n",
       "      <td>2</td>\n",
       "      <td>4</td>\n",
       "      <td>7</td>\n",
       "      <td>5</td>\n",
       "      <td>8</td>\n",
       "      <td>3</td>\n",
       "      <td>6</td>\n",
       "      <td>9</td>\n",
       "      <td>10</td>\n",
       "    </tr>\n",
       "    <tr>\n",
       "      <th>4</th>\n",
       "      <td>0</td>\n",
       "      <td>0</td>\n",
       "      <td>4</td>\n",
       "      <td>45</td>\n",
       "      <td>38</td>\n",
       "      <td>27</td>\n",
       "      <td>20</td>\n",
       "      <td>26</td>\n",
       "      <td>16</td>\n",
       "      <td>28</td>\n",
       "      <td>...</td>\n",
       "      <td>1</td>\n",
       "      <td>2</td>\n",
       "      <td>4</td>\n",
       "      <td>6</td>\n",
       "      <td>5</td>\n",
       "      <td>8</td>\n",
       "      <td>3</td>\n",
       "      <td>7</td>\n",
       "      <td>9</td>\n",
       "      <td>10</td>\n",
       "    </tr>\n",
       "  </tbody>\n",
       "</table>\n",
       "<p>5 rows × 23 columns</p>\n",
       "</div>"
      ],
      "text/plain": [
       "   J16  J17  J18  BR  AR  EC  CL  PE  CH  UR  ...  BR_POS  AR_POS  EC_POS  \\\n",
       "0    0    0    0  42  38  27  20  26  19  25  ...       1       2       3   \n",
       "1    0    0    1  45  38  27  20  26  19  25  ...       1       2       3   \n",
       "2    0    0    2  43  38  27  20  26  19  25  ...       1       2       3   \n",
       "3    0    0    3  42  38  27  20  26  16  28  ...       1       2       4   \n",
       "4    0    0    4  45  38  27  20  26  16  28  ...       1       2       4   \n",
       "\n",
       "   CL_POS  PE_POS  CH_POS  UR_POS  BL_POS  PG_POS  VZ_POS  \n",
       "0       7       4       8       5       6       9      10  \n",
       "1       6       4       7       5       8       9      10  \n",
       "2       6       4       7       5       8       9      10  \n",
       "3       7       5       8       3       6       9      10  \n",
       "4       6       5       8       3       7       9      10  \n",
       "\n",
       "[5 rows x 23 columns]"
      ]
     },
     "execution_count": 56,
     "metadata": {},
     "output_type": "execute_result"
    }
   ],
   "source": [
    "df = pd.read_csv('omega_score_position_v1.csv')\n",
    "df.head()"
   ]
  },
  {
   "cell_type": "code",
   "execution_count": 107,
   "metadata": {},
   "outputs": [],
   "source": [
    "df_st1 = pd.read_csv('matchday16.csv')\n",
    "df_st2 = pd.read_csv('matchday17.csv')\n",
    "df_st3 = pd.read_csv('matchday18.csv')"
   ]
  },
  {
   "cell_type": "markdown",
   "metadata": {},
   "source": [
    "## Análisis de los partidos <a name=\"analisis\">"
   ]
  },
  {
   "cell_type": "markdown",
   "metadata": {},
   "source": [
    "## ¿Si Ecuador pierde todos los partidos puede clasificarse para el mundial sin repechaje?<a name=\"p1\">"
   ]
  },
  {
   "cell_type": "code",
   "execution_count": 156,
   "metadata": {},
   "outputs": [
    {
     "name": "stdout",
     "output_type": "stream",
     "text": [
      "Probabilidad:  0.030590413611294574\n",
      "Número de escenarios:  438939\n"
     ]
    }
   ],
   "source": [
    "result = df[(df_pts['EC'] == 24) & (df['EC_POS'] < 5)]\n",
    "print(\"Probabilidad: \", len(result)/len(df))\n",
    "print(\"Número de escenarios: \", len(result))"
   ]
  },
  {
   "cell_type": "markdown",
   "metadata": {},
   "source": [
    "Si, auquen la probabilidad es muy baja. Para que Ecuador clasifique para el mundial perdiendo todos los partidos deberían ocurrir los siguientes resultados:"
   ]
  },
  {
   "cell_type": "code",
   "execution_count": 169,
   "metadata": {},
   "outputs": [
    {
     "data": {
      "text/html": [
       "<div>\n",
       "<style scoped>\n",
       "    .dataframe tbody tr th:only-of-type {\n",
       "        vertical-align: middle;\n",
       "    }\n",
       "\n",
       "    .dataframe tbody tr th {\n",
       "        vertical-align: top;\n",
       "    }\n",
       "\n",
       "    .dataframe thead th {\n",
       "        text-align: right;\n",
       "    }\n",
       "</style>\n",
       "<table border=\"1\" class=\"dataframe\">\n",
       "  <thead>\n",
       "    <tr style=\"text-align: right;\">\n",
       "      <th></th>\n",
       "      <th>M1</th>\n",
       "      <th>M2</th>\n",
       "      <th>M3</th>\n",
       "      <th>M4</th>\n",
       "      <th>M5</th>\n",
       "    </tr>\n",
       "  </thead>\n",
       "  <tbody>\n",
       "    <tr>\n",
       "      <th>0</th>\n",
       "      <td>UR (3)  - VZ (0)</td>\n",
       "      <td>BR (3)  - PG (0)</td>\n",
       "      <td>PE (3)  - EC (0)</td>\n",
       "      <td>BL (3)  - CH (0)</td>\n",
       "      <td>AR (3)  - CL (0)</td>\n",
       "    </tr>\n",
       "  </tbody>\n",
       "</table>\n",
       "</div>"
      ],
      "text/plain": [
       "                 M1                M2                M3                M4  \\\n",
       "0  UR (3)  - VZ (0)  BR (3)  - PG (0)  PE (3)  - EC (0)  BL (3)  - CH (0)   \n",
       "\n",
       "                 M5  \n",
       "0  AR (3)  - CL (0)  "
      ]
     },
     "execution_count": 169,
     "metadata": {},
     "output_type": "execute_result"
    }
   ],
   "source": [
    "df_st1.loc[result['J16']].head(1)"
   ]
  },
  {
   "cell_type": "code",
   "execution_count": 154,
   "metadata": {},
   "outputs": [
    {
     "data": {
      "text/html": [
       "<div>\n",
       "<style scoped>\n",
       "    .dataframe tbody tr th:only-of-type {\n",
       "        vertical-align: middle;\n",
       "    }\n",
       "\n",
       "    .dataframe tbody tr th {\n",
       "        vertical-align: top;\n",
       "    }\n",
       "\n",
       "    .dataframe thead th {\n",
       "        text-align: right;\n",
       "    }\n",
       "</style>\n",
       "<table border=\"1\" class=\"dataframe\">\n",
       "  <thead>\n",
       "    <tr style=\"text-align: right;\">\n",
       "      <th></th>\n",
       "      <th>M1</th>\n",
       "      <th>M2</th>\n",
       "      <th>M3</th>\n",
       "      <th>M4</th>\n",
       "      <th>M5</th>\n",
       "    </tr>\n",
       "  </thead>\n",
       "  <tbody>\n",
       "    <tr>\n",
       "      <th>0</th>\n",
       "      <td>AR (3)  - VZ (0)</td>\n",
       "      <td>CL (3)  - BL (0)</td>\n",
       "      <td>PG (3)  - EC (0)</td>\n",
       "      <td>BR (3)  - CH (0)</td>\n",
       "      <td>UR (3)  - PE (0)</td>\n",
       "    </tr>\n",
       "  </tbody>\n",
       "</table>\n",
       "</div>"
      ],
      "text/plain": [
       "                 M1                M2                M3                M4  \\\n",
       "0  AR (3)  - VZ (0)  CL (3)  - BL (0)  PG (3)  - EC (0)  BR (3)  - CH (0)   \n",
       "\n",
       "                 M5  \n",
       "0  UR (3)  - PE (0)  "
      ]
     },
     "execution_count": 154,
     "metadata": {},
     "output_type": "execute_result"
    }
   ],
   "source": [
    "df_st2.loc[result['J17']].head(1)"
   ]
  },
  {
   "cell_type": "code",
   "execution_count": 170,
   "metadata": {},
   "outputs": [
    {
     "data": {
      "text/html": [
       "<div>\n",
       "<style scoped>\n",
       "    .dataframe tbody tr th:only-of-type {\n",
       "        vertical-align: middle;\n",
       "    }\n",
       "\n",
       "    .dataframe tbody tr th {\n",
       "        vertical-align: top;\n",
       "    }\n",
       "\n",
       "    .dataframe thead th {\n",
       "        text-align: right;\n",
       "    }\n",
       "</style>\n",
       "<table border=\"1\" class=\"dataframe\">\n",
       "  <thead>\n",
       "    <tr style=\"text-align: right;\">\n",
       "      <th></th>\n",
       "      <th>M1</th>\n",
       "      <th>M2</th>\n",
       "      <th>M3</th>\n",
       "      <th>M4</th>\n",
       "      <th>M5</th>\n",
       "    </tr>\n",
       "  </thead>\n",
       "  <tbody>\n",
       "    <tr>\n",
       "      <th>108</th>\n",
       "      <td>PE (0)  - PG (3)</td>\n",
       "      <td>EC (0)  - AR (3)</td>\n",
       "      <td>VZ (3)  - CL (0)</td>\n",
       "      <td>CH (3)  - UR (0)</td>\n",
       "      <td>BL (3)  - BR (0)</td>\n",
       "    </tr>\n",
       "  </tbody>\n",
       "</table>\n",
       "</div>"
      ],
      "text/plain": [
       "                   M1                M2                M3                M4  \\\n",
       "108  PE (0)  - PG (3)  EC (0)  - AR (3)  VZ (3)  - CL (0)  CH (3)  - UR (0)   \n",
       "\n",
       "                   M5  \n",
       "108  BL (3)  - BR (0)  "
      ]
     },
     "execution_count": 170,
     "metadata": {},
     "output_type": "execute_result"
    }
   ],
   "source": [
    "df_st3.loc[result['J18']].head(1)"
   ]
  },
  {
   "cell_type": "markdown",
   "metadata": {},
   "source": [
    "*  Jornada 16: Uruguay gana a Venezuela, Brasil gana a Paraguay, Perú gana a Ecuador, Bolivia gana a Chile, Argentina gana a Colombia\n",
    "*  Jornada 17: Argentina gana a Venezuela, Colombia gana a Bolivia, Paraguay gana a Ecuador, Brasil gana a Chile, Uruguay gana a Perú\n",
    "*  Jornada 18: Paraguay gana a Perú, Argentina gana a Ecuador, Venezuela gana a Colombia, Chile gana a Uruguay, Bolivia gana a Brasil. \n"
   ]
  },
  {
   "cell_type": "markdown",
   "metadata": {},
   "source": [
    "## ¿Con un empate Ecuador podría quedarse fuera del mundial sin opción a repechaje?<a name=\"p2\">"
   ]
  },
  {
   "cell_type": "code",
   "execution_count": 149,
   "metadata": {},
   "outputs": [
    {
     "name": "stdout",
     "output_type": "stream",
     "text": [
      "Probabilidad:  0.00013548070246744229\n",
      "Número de escenarios:  1944\n"
     ]
    }
   ],
   "source": [
    "result = df[(df_pts['EC'] == 25) & (df['EC_POS'] > 5)]\n",
    "print(\"Probabilidad: \", len(result)/len(df))\n",
    "print(\"Número de escenarios: \", len(result))"
   ]
  },
  {
   "cell_type": "markdown",
   "metadata": {},
   "source": [
    "Si, auquen la probabilidad es muy baja. Para que Ecuador empate y no se clasifique para el mundial deberían ocurrir los siguientes resultados:"
   ]
  },
  {
   "cell_type": "code",
   "execution_count": 145,
   "metadata": {},
   "outputs": [
    {
     "data": {
      "text/html": [
       "<div>\n",
       "<style scoped>\n",
       "    .dataframe tbody tr th:only-of-type {\n",
       "        vertical-align: middle;\n",
       "    }\n",
       "\n",
       "    .dataframe tbody tr th {\n",
       "        vertical-align: top;\n",
       "    }\n",
       "\n",
       "    .dataframe thead th {\n",
       "        text-align: right;\n",
       "    }\n",
       "</style>\n",
       "<table border=\"1\" class=\"dataframe\">\n",
       "  <thead>\n",
       "    <tr style=\"text-align: right;\">\n",
       "      <th></th>\n",
       "      <th>M1</th>\n",
       "      <th>M2</th>\n",
       "      <th>M3</th>\n",
       "      <th>M4</th>\n",
       "      <th>M5</th>\n",
       "    </tr>\n",
       "  </thead>\n",
       "  <tbody>\n",
       "    <tr>\n",
       "      <th>1</th>\n",
       "      <td>UR (3)  - VZ (0)</td>\n",
       "      <td>BR (3)  - PG (0)</td>\n",
       "      <td>PE (3)  - EC (0)</td>\n",
       "      <td>BL (3)  - CH (0)</td>\n",
       "      <td>AR (0)  - CL (3)</td>\n",
       "    </tr>\n",
       "  </tbody>\n",
       "</table>\n",
       "</div>"
      ],
      "text/plain": [
       "                 M1                M2                M3                M4  \\\n",
       "1  UR (3)  - VZ (0)  BR (3)  - PG (0)  PE (3)  - EC (0)  BL (3)  - CH (0)   \n",
       "\n",
       "                 M5  \n",
       "1  AR (0)  - CL (3)  "
      ]
     },
     "execution_count": 145,
     "metadata": {},
     "output_type": "execute_result"
    }
   ],
   "source": [
    "df_st1.loc[result['J16']].head(1)"
   ]
  },
  {
   "cell_type": "code",
   "execution_count": 142,
   "metadata": {},
   "outputs": [
    {
     "data": {
      "text/html": [
       "<div>\n",
       "<style scoped>\n",
       "    .dataframe tbody tr th:only-of-type {\n",
       "        vertical-align: middle;\n",
       "    }\n",
       "\n",
       "    .dataframe tbody tr th {\n",
       "        vertical-align: top;\n",
       "    }\n",
       "\n",
       "    .dataframe thead th {\n",
       "        text-align: right;\n",
       "    }\n",
       "</style>\n",
       "<table border=\"1\" class=\"dataframe\">\n",
       "  <thead>\n",
       "    <tr style=\"text-align: right;\">\n",
       "      <th></th>\n",
       "      <th>M1</th>\n",
       "      <th>M2</th>\n",
       "      <th>M3</th>\n",
       "      <th>M4</th>\n",
       "      <th>M5</th>\n",
       "    </tr>\n",
       "  </thead>\n",
       "  <tbody>\n",
       "    <tr>\n",
       "      <th>0</th>\n",
       "      <td>AR (3)  - VZ (0)</td>\n",
       "      <td>CL (3)  - BL (0)</td>\n",
       "      <td>PG (3)  - EC (0)</td>\n",
       "      <td>BR (3)  - CH (0)</td>\n",
       "      <td>UR (3)  - PE (0)</td>\n",
       "    </tr>\n",
       "  </tbody>\n",
       "</table>\n",
       "</div>"
      ],
      "text/plain": [
       "                 M1                M2                M3                M4  \\\n",
       "0  AR (3)  - VZ (0)  CL (3)  - BL (0)  PG (3)  - EC (0)  BR (3)  - CH (0)   \n",
       "\n",
       "                 M5  \n",
       "0  UR (3)  - PE (0)  "
      ]
     },
     "execution_count": 142,
     "metadata": {},
     "output_type": "execute_result"
    }
   ],
   "source": [
    "df_st2.loc[result['J17']].head(1)"
   ]
  },
  {
   "cell_type": "code",
   "execution_count": 146,
   "metadata": {},
   "outputs": [
    {
     "data": {
      "text/html": [
       "<div>\n",
       "<style scoped>\n",
       "    .dataframe tbody tr th:only-of-type {\n",
       "        vertical-align: middle;\n",
       "    }\n",
       "\n",
       "    .dataframe tbody tr th {\n",
       "        vertical-align: top;\n",
       "    }\n",
       "\n",
       "    .dataframe thead th {\n",
       "        text-align: right;\n",
       "    }\n",
       "</style>\n",
       "<table border=\"1\" class=\"dataframe\">\n",
       "  <thead>\n",
       "    <tr style=\"text-align: right;\">\n",
       "      <th></th>\n",
       "      <th>M1</th>\n",
       "      <th>M2</th>\n",
       "      <th>M3</th>\n",
       "      <th>M4</th>\n",
       "      <th>M5</th>\n",
       "    </tr>\n",
       "  </thead>\n",
       "  <tbody>\n",
       "    <tr>\n",
       "      <th>66</th>\n",
       "      <td>PE (3)  - PG (0)</td>\n",
       "      <td>EC (1)  - AR (1)</td>\n",
       "      <td>VZ (0)  - CL (3)</td>\n",
       "      <td>CH (0)  - UR (3)</td>\n",
       "      <td>BL (3)  - BR (0)</td>\n",
       "    </tr>\n",
       "  </tbody>\n",
       "</table>\n",
       "</div>"
      ],
      "text/plain": [
       "                  M1                M2                M3                M4  \\\n",
       "66  PE (3)  - PG (0)  EC (1)  - AR (1)  VZ (0)  - CL (3)  CH (0)  - UR (3)   \n",
       "\n",
       "                  M5  \n",
       "66  BL (3)  - BR (0)  "
      ]
     },
     "execution_count": 146,
     "metadata": {},
     "output_type": "execute_result"
    }
   ],
   "source": [
    "df_st3.loc[result['J18']].head(1)"
   ]
  },
  {
   "cell_type": "markdown",
   "metadata": {},
   "source": [
    "* En la jornada 16: Uruguay gana a Venezuela, Brasil gana a Paraguay, Perú gana a Ecuador, Bolivia gana a Chile, Colombia gana a Argentina\n",
    "* En la jornada 17: Argentina gana a Venezuela, Colombia gana a Bolivia, Paraguay gana a Ecuador, Brasil gana a Chile, Uruguay gana a Perú.\n",
    "* En la jornada 18: Perú gana a Paraguay, Ecuador empate con Argentina, Colombia gana a Venezuela, Uruguay gana a Chile, Bolivia gana a Ecuador."
   ]
  },
  {
   "cell_type": "markdown",
   "metadata": {},
   "source": [
    "## ¿Si Ecuador gana un partido o empatara los tres partidos podría quedarse fuera del mundial?<a name=\"p3\">"
   ]
  },
  {
   "cell_type": "code",
   "execution_count": 180,
   "metadata": {},
   "outputs": [
    {
     "name": "stdout",
     "output_type": "stream",
     "text": [
      "Probabilidad:  0.0\n",
      "Número de escenarios:  0\n"
     ]
    }
   ],
   "source": [
    "result = df[(df_pts['EC'] == 27) & (df['EC_POS'] > 4)]\n",
    "print(\"Probabilidad: \", len(result)/len(df))\n",
    "print(\"Número de escenarios: \", len(result))"
   ]
  },
  {
   "cell_type": "markdown",
   "metadata": {},
   "source": [
    "No, clasificaría directo al mundial, sin ir al repechaje."
   ]
  }
 ],
 "metadata": {
  "kernelspec": {
   "display_name": "Python 3",
   "language": "python",
   "name": "python3"
  },
  "language_info": {
   "codemirror_mode": {
    "name": "ipython",
    "version": 3
   },
   "file_extension": ".py",
   "mimetype": "text/x-python",
   "name": "python",
   "nbconvert_exporter": "python",
   "pygments_lexer": "ipython3",
   "version": "3.8.5"
  }
 },
 "nbformat": 4,
 "nbformat_minor": 4
}
